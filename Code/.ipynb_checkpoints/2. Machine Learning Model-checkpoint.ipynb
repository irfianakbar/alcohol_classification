{
 "cells": [
  {
   "cell_type": "markdown",
   "id": "e9621dbd",
   "metadata": {},
   "source": [
    "# 1. Import Library"
   ]
  },
  {
   "cell_type": "code",
   "execution_count": 1,
   "id": "210e7596",
   "metadata": {},
   "outputs": [],
   "source": [
    "import os\n",
    "import numpy as np\n",
    "import pandas as pd\n",
    "import matplotlib.pyplot as plt\n",
    "import seaborn as sns\n",
    "import pickle\n",
    "\n",
    "import xgboost\n",
    "from xgboost import XGBClassifier\n",
    "from sklearn.linear_model import LogisticRegression\n",
    "from sklearn.metrics import confusion_matrix, classification_report\n",
    "from sklearn.metrics import roc_auc_score, plot_roc_curve, accuracy_score\n",
    "from sklearn.metrics import precision_score, recall_score, f1_score\n",
    "import joblib\n",
    "\n",
    "import warnings\n",
    "warnings.filterwarnings('ignore')\n",
    "pd.set_option('display.max_columns', 200)\n",
    "pd.set_option('display.max_rows', 200)\n"
   ]
  },
  {
   "cell_type": "markdown",
   "id": "e36843e2",
   "metadata": {},
   "source": [
    "# 2. Load Dataset"
   ]
  },
  {
   "cell_type": "code",
   "execution_count": 2,
   "id": "95c15ce4",
   "metadata": {},
   "outputs": [],
   "source": [
    "X_train = pd.read_parquet('../dataset/clean/X_train.parquet')\n",
    "y_train = pd.read_parquet('../dataset/clean/X_test.parquet')\n",
    "X_test = pd.read_parquet('../dataset/clean/y_train.parquet')\n",
    "y_test = pd.read_parquet('../dataset/clean/y_test.parquet')"
   ]
  },
  {
   "cell_type": "code",
   "execution_count": 3,
   "id": "8c346daa",
   "metadata": {},
   "outputs": [
    {
     "data": {
      "text/plain": [
       "((100, 13), (100, 6), (25, 13), (25, 6))"
      ]
     },
     "execution_count": 3,
     "metadata": {},
     "output_type": "execute_result"
    }
   ],
   "source": [
    "X_train.shape, y_train.shape, X_test.shape, y_test.shape"
   ]
  },
  {
   "cell_type": "code",
   "execution_count": 4,
   "id": "db8972ef",
   "metadata": {},
   "outputs": [],
   "source": [
    "X_train = X_train.to_numpy()\n",
    "y_train = y_train['label'].to_numpy()\n",
    "X_test = X_test.to_numpy()\n",
    "y_test = y_test['label'].to_numpy()"
   ]
  },
  {
   "cell_type": "code",
   "execution_count": null,
   "id": "f51e790c",
   "metadata": {},
   "outputs": [],
   "source": []
  },
  {
   "cell_type": "markdown",
   "id": "34cf28f8",
   "metadata": {},
   "source": [
    "# 3. Using Linear Model"
   ]
  },
  {
   "cell_type": "code",
   "execution_count": 5,
   "id": "7ca420f4",
   "metadata": {},
   "outputs": [
    {
     "data": {
      "image/png": "[encoded data removed]",
      "text/plain": [
       "<Figure size 432x288 with 2 Axes>"
      ]
     },
     "metadata": {
      "needs_background": "light"
     },
     "output_type": "display_data"
    },
    {
     "name": "stdout",
     "output_type": "stream",
     "text": [
      "              precision    recall  f1-score   support\n",
      "\n",
      "   1-Octanol       1.00      1.00      1.00         3\n",
      "  1-Propanol       0.50      0.25      0.33         4\n",
      "1-isobutanol       1.00      1.00      1.00         8\n",
      "   2-Butanol       0.50      0.60      0.55         5\n",
      "  2-propanol       0.67      0.80      0.73         5\n",
      "\n",
      "    accuracy                           0.76        25\n",
      "   macro avg       0.73      0.73      0.72        25\n",
      "weighted avg       0.75      0.76      0.75        25\n",
      "\n",
      "Accuracy score is:  0.76\n",
      "Precision score is:  0.75\n",
      "Recall score is:  0.76\n"
     ]
    }
   ],
   "source": [
    "model=LogisticRegression(multi_class='multinomial', solver='lbfgs', C=1.5)\n",
    "model.fit(X_train, y_train)\n",
    "\n",
    "pred=model.predict(X_test)\n",
    "sns.heatmap(confusion_matrix(y_test, pred), annot=True)\n",
    "plt.show()\n",
    "\n",
    "print(classification_report(y_test, pred))\n",
    "\n",
    "print('Accuracy score is: ', accuracy_score(y_test, pred))\n",
    "print('Precision score is: ', np.round(precision_score(y_test, pred, average='weighted'), 2))\n",
    "print('Recall score is: ', np.round(recall_score(y_test, pred, average='weighted'), 2))"
   ]
  },
  {
   "cell_type": "code",
   "execution_count": null,
   "id": "4b6fce7e",
   "metadata": {},
   "outputs": [],
   "source": []
  },
  {
   "cell_type": "markdown",
   "id": "b7fa3290",
   "metadata": {},
   "source": [
    "# 4. Using XGBoost"
   ]
  },
  {
   "cell_type": "code",
   "execution_count": 6,
   "id": "263f886d",
   "metadata": {},
   "outputs": [
    {
     "data": {
      "image/png": "[encoded data removed]",
      "text/plain": [
       "<Figure size 432x288 with 2 Axes>"
      ]
     },
     "metadata": {
      "needs_background": "light"
     },
     "output_type": "display_data"
    },
    {
     "name": "stdout",
     "output_type": "stream",
     "text": [
      "              precision    recall  f1-score   support\n",
      "\n",
      "   1-Octanol       1.00      1.00      1.00         3\n",
      "  1-Propanol       1.00      1.00      1.00         4\n",
      "1-isobutanol       1.00      1.00      1.00         8\n",
      "   2-Butanol       1.00      1.00      1.00         5\n",
      "  2-propanol       1.00      1.00      1.00         5\n",
      "\n",
      "    accuracy                           1.00        25\n",
      "   macro avg       1.00      1.00      1.00        25\n",
      "weighted avg       1.00      1.00      1.00        25\n",
      "\n",
      "Accuracy score is:  1.0\n",
      "Precision score is:  1.0\n",
      "Recall score is:  1.0\n"
     ]
    }
   ],
   "source": [
    "model=XGBClassifier(booster='gbtree', predictor='auto', tree_method='exact',\n",
    "                        max_depth=3, objective='multi:softmax')\n",
    "model.fit(X_train, y_train)\n",
    "\n",
    "\n",
    "pred=model.predict(X_test)\n",
    "sns.heatmap(confusion_matrix(y_test, pred), annot=True)\n",
    "plt.show()\n",
    "\n",
    "print(classification_report(y_test, pred))\n",
    "\n",
    "print('Accuracy score is: ', accuracy_score(y_test, pred))\n",
    "print('Precision score is: ', np.round(precision_score(y_test, pred, average='weighted'), 2))\n",
    "print('Recall score is: ', np.round(recall_score(y_test, pred, average='weighted'), 2))"
   ]
  },
  {
   "cell_type": "code",
   "execution_count": 7,
   "id": "f6d2ecf7",
   "metadata": {},
   "outputs": [
    {
     "data": {
      "text/plain": [
       "array(['1-Propanol', '1-Octanol', '2-propanol', '1-isobutanol',\n",
       "       '2-Butanol', '1-isobutanol', '1-Octanol', '2-propanol',\n",
       "       '1-Propanol', '2-Butanol', '2-Butanol', '1-isobutanol',\n",
       "       '1-isobutanol', '1-isobutanol', '2-Butanol', '1-Octanol',\n",
       "       '1-isobutanol', '1-Propanol', '1-isobutanol', '1-isobutanol',\n",
       "       '1-Propanol', '2-propanol', '2-propanol', '2-Butanol',\n",
       "       '2-propanol'], dtype=object)"
      ]
     },
     "execution_count": 7,
     "metadata": {},
     "output_type": "execute_result"
    }
   ],
   "source": [
    "pred"
   ]
  },
  {
   "cell_type": "code",
   "execution_count": 12,
   "id": "873df00c",
   "metadata": {},
   "outputs": [
    {
     "data": {
      "text/plain": [
       "XGBClassifier(base_score=0.5, booster='gbtree', colsample_bylevel=1,\n",
       "              colsample_bynode=1, colsample_bytree=1, gamma=0, gpu_id=-1,\n",
       "              importance_type='gain', interaction_constraints='',\n",
       "              learning_rate=0.300000012, max_delta_step=0, max_depth=3,\n",
       "              min_child_weight=1, missing=nan, monotone_constraints='()',\n",
       "              n_estimators=100, n_jobs=0, num_parallel_tree=1,\n",
       "              objective='multi:softprob', predictor='auto', random_state=0,\n",
       "              reg_alpha=0, reg_lambda=1, scale_pos_weight=None, subsample=1,\n",
       "              tree_method='exact', validate_parameters=1, verbosity=None)"
      ]
     },
     "execution_count": 12,
     "metadata": {},
     "output_type": "execute_result"
    }
   ],
   "source": [
    "model"
   ]
  },
  {
   "cell_type": "code",
   "execution_count": 13,
   "id": "94c81b92",
   "metadata": {},
   "outputs": [
    {
     "data": {
      "text/plain": [
       "array(['1-Propanol', '1-Octanol', '2-propanol', '1-isobutanol',\n",
       "       '2-Butanol', '1-isobutanol', '1-Octanol', '2-propanol',\n",
       "       '1-Propanol', '2-Butanol', '2-Butanol', '1-isobutanol',\n",
       "       '1-isobutanol', '1-isobutanol', '2-Butanol', '1-Octanol',\n",
       "       '1-isobutanol', '1-Propanol', '1-isobutanol', '1-isobutanol',\n",
       "       '1-Propanol', '2-propanol', '2-propanol', '2-Butanol',\n",
       "       '2-propanol'], dtype=object)"
      ]
     },
     "execution_count": 13,
     "metadata": {},
     "output_type": "execute_result"
    }
   ],
   "source": [
    "model.predict(X_test)"
   ]
  },
  {
   "cell_type": "markdown",
   "id": "6fa34b35",
   "metadata": {},
   "source": [
    "# 5. Saving Best Model"
   ]
  },
  {
   "cell_type": "code",
   "execution_count": 17,
   "id": "ee4b7e04",
   "metadata": {},
   "outputs": [
    {
     "data": {
      "text/plain": [
       "['../model/xgboost_model.pkl']"
      ]
     },
     "execution_count": 17,
     "metadata": {},
     "output_type": "execute_result"
    }
   ],
   "source": [
    "joblib.dump(model, \"../model/xgboost_model.pkl\") "
   ]
  },
  {
   "cell_type": "code",
   "execution_count": 22,
   "id": "5a2f2252",
   "metadata": {},
   "outputs": [
    {
     "data": {
      "text/plain": [
       "XGBClassifier(base_score=0.5, booster='gbtree', colsample_bylevel=1,\n",
       "              colsample_bynode=1, colsample_bytree=1, gamma=0, gpu_id=-1,\n",
       "              importance_type='gain', interaction_constraints='',\n",
       "              learning_rate=0.300000012, max_delta_step=0, max_depth=3,\n",
       "              min_child_weight=1, missing=nan, monotone_constraints='()',\n",
       "              n_estimators=100, n_jobs=0, num_parallel_tree=1,\n",
       "              objective='multi:softprob', predictor='auto', random_state=0,\n",
       "              reg_alpha=0, reg_lambda=1, scale_pos_weight=None, subsample=1,\n",
       "              tree_method='exact', validate_parameters=1, verbosity=None)"
      ]
     },
     "execution_count": 22,
     "metadata": {},
     "output_type": "execute_result"
    }
   ],
   "source": [
    "xgboost_model = joblib.load(open('../model/xgboost_model.pkl', \"rb\"))\n",
    "xgboost_model"
   ]
  },
  {
   "cell_type": "code",
   "execution_count": 24,
   "id": "14a37938",
   "metadata": {},
   "outputs": [
    {
     "data": {
      "text/plain": [
       "XGBClassifier(base_score=0.5, booster='gbtree', colsample_bylevel=1,\n",
       "              colsample_bynode=1, colsample_bytree=1, gamma=0, gpu_id=-1,\n",
       "              importance_type='gain', interaction_constraints='',\n",
       "              learning_rate=0.300000012, max_delta_step=0, max_depth=3,\n",
       "              min_child_weight=1, missing=nan, monotone_constraints='()',\n",
       "              n_estimators=100, n_jobs=0, num_parallel_tree=1,\n",
       "              objective='multi:softprob', predictor='auto', random_state=0,\n",
       "              reg_alpha=0, reg_lambda=1, scale_pos_weight=None, subsample=1,\n",
       "              tree_method='exact', validate_parameters=1, verbosity=None)"
      ]
     },
     "execution_count": 24,
     "metadata": {},
     "output_type": "execute_result"
    }
   ],
   "source": [
    "xgboost_model"
   ]
  },
  {
   "cell_type": "code",
   "execution_count": null,
   "id": "e35d47b3",
   "metadata": {},
   "outputs": [],
   "source": []
  },
  {
   "cell_type": "code",
   "execution_count": null,
   "id": "5de88681",
   "metadata": {},
   "outputs": [],
   "source": []
  }
 ],
 "metadata": {
  "kernelspec": {
   "display_name": "Python 3 (ipykernel)",
   "language": "python",
   "name": "python3"
  },
  "language_info": {
   "codemirror_mode": {
    "name": "ipython",
    "version": 3
   },
   "file_extension": ".py",
   "mimetype": "text/x-python",
   "name": "python",
   "nbconvert_exporter": "python",
   "pygments_lexer": "ipython3",
   "version": "3.8.0"
  }
 },
 "nbformat": 4,
 "nbformat_minor": 5
}
